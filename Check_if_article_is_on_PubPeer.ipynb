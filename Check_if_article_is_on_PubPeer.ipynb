{
  "nbformat": 4,
  "nbformat_minor": 0,
  "metadata": {
    "colab": {
      "provenance": [],
      "authorship_tag": "ABX9TyOGpAZHqFW2JUBXZ+BZLj43",
      "include_colab_link": true
    },
    "kernelspec": {
      "name": "python3",
      "display_name": "Python 3"
    },
    "language_info": {
      "name": "python"
    }
  },
  "cells": [
    {
      "cell_type": "markdown",
      "metadata": {
        "id": "view-in-github",
        "colab_type": "text"
      },
      "source": [
        "<a href=\"https://colab.research.google.com/github/micha-blip/Simple-article-reference-checker/blob/main/Check_if_article_is_on_PubPeer.ipynb\" target=\"_parent\"><img src=\"https://colab.research.google.com/assets/colab-badge.svg\" alt=\"Open In Colab\"/></a>"
      ]
    },
    {
      "cell_type": "code",
      "metadata": {
        "id": "31cb9578"
      },
      "source": [
        "import requests\n",
        "\n",
        "def is_on_pubpeer(pubmedid):\n",
        "    \"\"\"\n",
        "    Checks if an article with the given PubmedID is on PubPeer.\n",
        "    Args:\n",
        "        pubmedid: The PubmedID of the article.\n",
        "    Returns:\n",
        "        True if the article is on PubPeer, False otherwise.\n",
        "    \"\"\"\n",
        "    # PubPeer doesn't have a direct API for checking by DOI.\n",
        "    # We can try to construct a potential URL and check for its existence or content.\n",
        "    # This is a heuristic and might not be completely reliable.\n",
        "    pubpeer_url = f\"https://pubpeer.com/publications/{pubmedid}\"\n",
        "\n",
        "    try:\n",
        "        response = requests.get(pubpeer_url)\n",
        "        # A 200 status code might indicate the page exists, but it could be a generic page.\n",
        "        # A more robust check would involve parsing the page content, but that's more complex.\n",
        "        if response.status_code == 200:\n",
        "            # Check if the page content indicates the article is found.\n",
        "            # This is a simple heuristic and might need adjustment based on PubPeer's page structure.\n",
        "            return True\n",
        "\n",
        "        else:\n",
        "            return False\n",
        "    except requests.exceptions.RequestException:\n",
        "        # Handle network errors or other request issues\n",
        "        return False\n"
      ],
      "execution_count": 42,
      "outputs": []
    },
    {
      "cell_type": "code",
      "source": [
        "is_on_pubpeer(pubmedid = 40054449)"
      ],
      "metadata": {
        "colab": {
          "base_uri": "https://localhost:8080/"
        },
        "id": "O00VXjbnIUBP",
        "outputId": "291ab56c-eec5-4e2d-bccb-66fc5d64e22e"
      },
      "execution_count": 43,
      "outputs": [
        {
          "output_type": "execute_result",
          "data": {
            "text/plain": [
              "True"
            ]
          },
          "metadata": {},
          "execution_count": 43
        }
      ]
    }
  ]
}
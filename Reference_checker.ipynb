{
  "nbformat": 4,
  "nbformat_minor": 0,
  "metadata": {
    "colab": {
      "provenance": [],
      "authorship_tag": "ABX9TyNEJcKWXcxTMnJURoYEZ6hQ",
      "include_colab_link": true
    },
    "kernelspec": {
      "name": "python3",
      "display_name": "Python 3"
    },
    "language_info": {
      "name": "python"
    }
  },
  "cells": [
    {
      "cell_type": "markdown",
      "metadata": {
        "id": "view-in-github",
        "colab_type": "text"
      },
      "source": [
        "<a href=\"https://colab.research.google.com/github/micha-blip/Simple-article-reference-checker/blob/main/Reference_checker.ipynb\" target=\"_parent\"><img src=\"https://colab.research.google.com/assets/colab-badge.svg\" alt=\"Open In Colab\"/></a>"
      ]
    },
    {
      "cell_type": "markdown",
      "metadata": {
        "id": "3b284753"
      },
      "source": [
        "## Simple reference checker\n",
        "\n",
        "This notebook provides tools to check the validity of references in scientific articles using DOIs. The goal is to help identify potentially fabricated or hallucinated references, which can be a concern with AI-generated content, and thereby contribute to improving the reliability and integrity of scientific literature."
      ]
    },
    {
      "cell_type": "code",
      "source": [
        "import requests\n",
        "import numpy as np\n",
        "import pandas as pd\n",
        "from Bio import Entrez # Import Entrez\n",
        "\n",
        "def get_references_from_doi(doi, return_dataframe = True, verbose = True):\n",
        "  \"\"\"\n",
        "  Fetches references for a given DOI, checks their existence via Crossref,\n",
        "  and returns a summary or a DataFrame of the results.\n",
        "\n",
        "  Args:\n",
        "    doi (str): The DOI of the article to fetch references from.\n",
        "    return_dataframe (bool, optional): If True, returns a pandas DataFrame\n",
        "                                        with DOI and status. If False, returns\n",
        "                                        a dictionary summary. Defaults to True.\n",
        "    verbose (bool, optional): If True, prints detailed status during the\n",
        "                              reference check. Defaults to True.\n",
        "\n",
        "  Returns:\n",
        "    pandas.DataFrame or dict: A DataFrame with reference DOIs and their status\n",
        "                              ('article found', 'no article', 'no DOI'),\n",
        "                              or a dictionary summarizing the counts of each status.\n",
        "                              Returns None if the initial article DOI is not found.\n",
        "  \"\"\"\n",
        "\n",
        "  api_url = f\"https://api.crossref.org/v1/works/{doi}\"\n",
        "  headers = {\"User-Agent\": \"SimpleFetcher\"}\n",
        "  print('Sending request...')\n",
        "\n",
        "  try:\n",
        "      response = requests.get(api_url, headers=headers)\n",
        "      response.raise_for_status()  # Check for bad responses\n",
        "      data = response.json()\n",
        "\n",
        "      # Get the list of references from the response\n",
        "      references = data[\"message\"].get(\"reference\", [])\n",
        "      title = data[\"message\"].get('title', [])\n",
        "      title = str(title[0]).replace(\"\\\\n\", \" \").replace('<sup>+</sup>', \"\")\n",
        "      print('Processing response for: ' + '\\x1B[3m'  + title)\n",
        "\n",
        "      doi_list = []\n",
        "\n",
        "      if references:\n",
        "          for i, ref in enumerate(references):\n",
        "              ref_key = ref.get('key', f\"substitute_key_{i}\") # Use a substitute key if 'key' is missing\n",
        "              if \"DOI\" in ref:\n",
        "                  doi_list.append(ref['DOI'])\n",
        "              elif \"unstructured\" in ref:\n",
        "                  doi_list.append('not found')\n",
        "              else:\n",
        "                  doi_list.append('not found')\n",
        "\n",
        "  except requests.exceptions.RequestException as e:\n",
        "      print(f\"An error occurred: The article was not found\")\n",
        "      return\n",
        "\n",
        "  check_status = check_references_for_doi(doi_list, verbose)\n",
        "  print(\"Done, found \" + str(sum(check_status == \"article found\")) + \" existing documents, \" + str(sum(check_status == \"no article\")) + \" non-existing documents\" + \" and \" + str(sum(check_status == 'no DOI')) + \" missing DOI\")\n",
        "\n",
        "  if verbose == False:\n",
        "    result = {\"Found\" : int(sum(check_status == \"article found\")), \"Not found\" : int(sum(check_status == \"no article\")), \"Missing DOI\" : int(sum(check_status == 'no DOI'))}\n",
        "    return pd.DataFrame(result, index = range(1))\n",
        "\n",
        "\n",
        "\n",
        "  if return_dataframe == True:\n",
        "    references_checked = pd.DataFrame(doi_list,  columns=['DOI'])\n",
        "    references_checked['status'] = check_status\n",
        "    return references_checked\n",
        "\n",
        "\n",
        "\n",
        "\n",
        "def check_references_for_doi(doi_list, verbose):\n",
        "  \"\"\"\n",
        "  Checks the existence of a list of DOIs using the PubMed API (Entrez).\n",
        "\n",
        "  Args:\n",
        "    doi_list (list): A list of DOIs (strings) to check. 'not found' indicates\n",
        "                     a missing DOI in the original reference list.\n",
        "    verbose (bool): If True, prints the status and title (if found) for each DOI.\n",
        "\n",
        "  Returns:\n",
        "    numpy.ndarray: A numpy array of strings indicating the status for each DOI\n",
        "                   in the input list ('article found', 'no article', 'no DOI').\n",
        "  \"\"\"\n",
        "  # Always tell Entrez who you are\n",
        "  Entrez.email = \"your_email@example.com\" # Replace with your email address\n",
        "\n",
        "  status = np.full(len(doi_list), \"not processed\")\n",
        "\n",
        "  for i, doi in enumerate(doi_list):\n",
        "    if doi == 'not found': # if there is no doi in the original reference\n",
        "      status[i] = 'no DOI'\n",
        "      if verbose == True:\n",
        "        print('\\033[33m' + str(i+1) +\" \" +  \"DOI missing in reference list\" + '\\033[0m')\n",
        "      continue\n",
        "\n",
        "    try:\n",
        "        # Search PubMed for the DOI to get the PMID\n",
        "        # Using a more specific search term to improve accuracy\n",
        "        search_term = f'{doi}[doi]'\n",
        "        search_handle = Entrez.esearch(db=\"pubmed\", term=search_term, retmax=10) # Use retmax to limit results\n",
        "        search_record = Entrez.read(search_handle)\n",
        "        search_handle.close()\n",
        "\n",
        "        pubmed_ids = search_record[\"IdList\"]\n",
        "\n",
        "        if pubmed_ids:\n",
        "            # If PMID(s) found, fetch the article details to confirm existence and get title\n",
        "            # Fetch details for the first result, as we expect only one match for a DOI\n",
        "            fetch_handle = Entrez.efetch(db=\"pubmed\", id=pubmed_ids[0], retmode=\"xml\")\n",
        "            article_record = Entrez.read(fetch_handle)\n",
        "            fetch_handle.close()\n",
        "\n",
        "            if 'PubmedArticle' in article_record and len(article_record['PubmedArticle']) > 0:\n",
        "                article = article_record['PubmedArticle'][0]['MedlineCitation']['Article']\n",
        "                title = article.get('ArticleTitle', 'No Title Available')\n",
        "\n",
        "                if verbose == True:\n",
        "                   print('\\033[32m'  + str(i+1) + \" \" + title + '\\033[0m')\n",
        "                status[i] = \"article found\"\n",
        "            else:\n",
        "                # This case is less likely if a PMID was found, but included for robustness\n",
        "                if verbose == True:\n",
        "                   print('\\033[31m' + str(i+1) + \" \" +  f\"Could not fetch details for DOI: {doi}\" + '\\033[0m')\n",
        "                status[i] = 'no article'\n",
        "\n",
        "        else:\n",
        "            if verbose == True:\n",
        "               print('\\033[31m' + str(i+1) + \" \" +  f\"No article found on PubMed for DOI: {doi}\" + '\\033[0m')\n",
        "            status[i] = 'no article' # No PMID found for the DOI\n",
        "\n",
        "    except Exception as e: # Catch potential errors during Entrez interaction\n",
        "        if verbose == True:\n",
        "           print('\\033[31m' + str(i+1) + \" \" +  f\"An error occurred checking DOI '{doi}' on PubMed: {e}\" + '\\033[0m')\n",
        "        status[i] = 'no article' # Treat any other error as article not found for simplicity\n",
        "\n",
        "  return status"
      ],
      "metadata": {
        "id": "tjfVNnFwC-dN"
      },
      "execution_count": 128,
      "outputs": []
    },
    {
      "cell_type": "code",
      "source": [
        "x = get_references_from_doi(doi =  '10.3389/fmed.2024.1348884', return_dataframe=True, verbose = True)"
      ],
      "metadata": {
        "colab": {
          "base_uri": "https://localhost:8080/"
        },
        "id": "2UnhA6IyDISd",
        "outputId": "a348f39e-aaca-4897-ccbf-c3ce4f83d70f"
      },
      "execution_count": 129,
      "outputs": [
        {
          "output_type": "stream",
          "name": "stdout",
          "text": [
            "Sending request...\n",
            "Processing response for: \u001b[3mEfficacy of acupuncture in animal models of various ovarian dysfunctions: a systematic review and meta-analysis\n",
            "\u001b[32m1 Reproductive endocrinology: Restoring ovarian function.\u001b[0m\n",
            "\u001b[32m2 Aging of the human ovary and testis.\u001b[0m\n",
            "\u001b[32m3 Polycystic ovary syndrome: definition, aetiology, diagnosis and treatment.\u001b[0m\n",
            "\u001b[32m4 Expanding our knowledge of premature ovarian insufficiency.\u001b[0m\n",
            "\u001b[32m5 The Ovarian Hyperstimulation Syndrome.\u001b[0m\n",
            "\u001b[32m6 High concentration of chemerin caused by ovarian hyperandrogenism may lead to poor IVF outcome in polycystic ovary syndrome: a pilot study.\u001b[0m\n",
            "\u001b[32m7 Risks and benefits of estrogen plus progestin in healthy postmenopausal women: principal results From the Women's Health Initiative randomized controlled trial.\u001b[0m\n",
            "\u001b[32m8 Multi-system reproductive metabolic disorder: significance for the pathogenesis and therapy of polycystic ovary syndrome (PCOS).\u001b[0m\n",
            "\u001b[32m9 The Pathogenesis of Polycystic Ovary Syndrome (PCOS): The Hypothesis of PCOS as Functional Ovarian Hyperandrogenism Revisited.\u001b[0m\n",
            "\u001b[32m10 Human amnion-derived mesenchymal stem cells improved the reproductive function of age-related diminished ovarian reserve in mice through Ampk/FoxO3a signaling pathway.\u001b[0m\n",
            "\u001b[32m11 Perimenopausal syndrome and mood disorders in perimenopause: prevalence, severity, relationships, and risk factors.\u001b[0m\n",
            "\u001b[32m12 An Effective Treatment of Perimenopausal Syndrome by Combining Two Traditional Prescriptions of Chinese Botanical Drugs.\u001b[0m\n",
            "\u001b[32m13 Role of acupuncture in the treatment of female infertility.\u001b[0m\n",
            "\u001b[32m14 Systematic review of acupuncture to improve ovarian function in women with poor ovarian response.\u001b[0m\n",
            "\u001b[32m15 Acupuncture for infertile women without undergoing assisted reproductive techniques (ART): A systematic review and meta-analysis.\u001b[0m\n",
            "\u001b[32m16 Underlying mechanisms of acupuncture therapy on polycystic ovary syndrome: Evidences from animal and clinical studies.\u001b[0m\n",
            "\u001b[32m17 The risk of depressive and anxiety symptoms in women with premature ovarian insufficiency: a systematic review and meta-analysis.\u001b[0m\n",
            "\u001b[32m18 The effects of acupuncture on the secondary outcomes of anxiety and quality of life for women undergoing IVF: A randomized controlled trial.\u001b[0m\n",
            "\u001b[32m19 Chinese medicine as complementary therapy for female infertility.\u001b[0m\n",
            "\u001b[32m20 Integrating acupuncture: are there positive health outcomes for women?\u001b[0m\n",
            "\u001b[32m21 Acupuncture for Hypertension in Animal Models: A Systematic Review and Meta-Analysis.\u001b[0m\n",
            "\u001b[32m22 Systematic reviews of preclinical animal studies can make significant contributions to health care and more transparent translational medicine.\u001b[0m\n",
            "\u001b[32m23 Systematic reviews of animal experiments.\u001b[0m\n",
            "\u001b[32m24 The ARRIVE guidelines 2.0: Updated guidelines for reporting animal research.\u001b[0m\n",
            "\u001b[32m25 Reporting animal research: Explanation and elaboration for the ARRIVE guidelines 2.0.\u001b[0m\n",
            "\u001b[32m26 Influence of involuntary cigarette smoke inhalation on osseointegration: a systematic review and meta-analysis of preclinical studies.\u001b[0m\n",
            "\u001b[32m27 Can Resveratrol Treatment Control the Progression of Induced Periodontal Disease? A Systematic Review and Meta-Analysis of Preclinical Studies.\u001b[0m\n",
            "\u001b[32m28 SYRCLE's risk of bias tool for animal studies.\u001b[0m\n",
            "\u001b[32m29 Acupuncture for chronic nonspecific low back pain.\u001b[0m\n",
            "\u001b[32m30 [Effect of electroacupuncture at different acupoints on follicle development and related factors in serum and ovary tissues of PCOS rats].\u001b[0m\n",
            "\u001b[32m31 [Effect of Electroacupuncture at Different Acupoints on Steroid Hormones and Ovarian Androgen Receptor Expression in Polycystic Ovary Syndrome Rats].\u001b[0m\n",
            "\u001b[31m32 No article found on PubMed for DOI: 10.13702/j.1000-0607.2013.06.008\u001b[0m\n",
            "\u001b[32m33 [Effect of electroacupuncture on expression of Kisspeptin protein in hypothalamus of rats with polycystic ovary syndrome].\u001b[0m\n",
            "\u001b[33m34 DOI missing in reference list\u001b[0m\n",
            "\u001b[31m35 No article found on PubMed for DOI: 10.13460/j.issn.1005-0957.2020.13.0003\u001b[0m\n",
            "\u001b[32m36 [Effect of electroacupuncture on levels of serum sex hormones and expression of ovarian auto-phagy related factors in rats with polycystic ovary syndrome].\u001b[0m\n",
            "\u001b[33m37 DOI missing in reference list\u001b[0m\n",
            "\u001b[33m38 DOI missing in reference list\u001b[0m\n",
            "\u001b[33m39 DOI missing in reference list\u001b[0m\n",
            "\u001b[32m40 Effects of electro-acupuncture on ovarian P450arom, P450c17α and mRNA expression induced by letrozole in PCOS rats.\u001b[0m\n",
            "\u001b[33m41 DOI missing in reference list\u001b[0m\n",
            "\u001b[31m42 No article found on PubMed for DOI: 10.19664/j.cnki.1002-2392.210139\u001b[0m\n",
            "\u001b[32m43 Acupuncture regulates the autophagy of ovarian granulosa cells in polycystic ovarian syndrome ovulation disorder by inhibiting the PI3K/AKT/mTOR pathway through LncMEG3.\u001b[0m\n",
            "\u001b[32m44 Electroacupuncture alleviates polycystic ovary syndrome-like symptoms through improving insulin resistance, mitochondrial dysfunction, and endoplasmic reticulum stress via enhancing autophagy in rats.\u001b[0m\n",
            "\u001b[32m45 [Effects of electroacupuncture on the secretion function of ovarian cells and kisspeptin/kiss1r system in rats with polycystic ovarian syndrome].\u001b[0m\n",
            "\u001b[31m46 No article found on PubMed for DOI: 10.13460/j.issn.1005-0957.2005.09.025\u001b[0m\n",
            "\u001b[33m47 DOI missing in reference list\u001b[0m\n",
            "\u001b[33m48 DOI missing in reference list\u001b[0m\n",
            "\u001b[31m49 No article found on PubMed for DOI: 10.13935/j.cnki.sjzx.160134\u001b[0m\n",
            "\u001b[31m50 No article found on PubMed for DOI: 10.13460/j.issn.1005-0957.2020.02.0220\u001b[0m\n",
            "\u001b[31m51 No article found on PubMed for DOI: 10.13703/j.0255-2930.2015.01.016\u001b[0m\n",
            "\u001b[31m52 No article found on PubMed for DOI: 10.19917/j.cnki.1005-0779.022175\u001b[0m\n",
            "\u001b[32m53 [Effects of electroacupuncture at \"Zhongliao\" (BL 33) and \"Tianshu\" (ST 25) on ovarian function in rats with premature ovarian insufficiency].\u001b[0m\n",
            "\u001b[32m54 [Effect of \"Zhibian\" (BL 54)-to-\"Shuidao\" (ST 28) needle insertion on the expression of Fas/FADD/Caspase-8 of death receptor pathway in rats with primary ovarian insufficiency].\u001b[0m\n",
            "\u001b[33m55 DOI missing in reference list\u001b[0m\n",
            "\u001b[33m56 DOI missing in reference list\u001b[0m\n",
            "\u001b[32m57 Efficacy of electroacupuncture in regulating the imbalance of AMH and FSH to improve follicle development and hyperandrogenism in PCOS rats.\u001b[0m\n",
            "\u001b[32m58 Efficacy of needling acupoints of Guanyuan (CV4), Sanyinjiao (SP6), Zusanli (ST36), Pishu (BL20), Shenshu (BL23), Zigong (EX-CA1) on expression of p38 mitogen-activated protein kinase in ovarian tissue in rats with premature ovarian failure induced by cyclophosphamide.\u001b[0m\n",
            "\u001b[32m59 Acupuncture Reduces Apoptosis of Granulosa Cells in Rats with Premature Ovarian Failure Via Restoring the PI3K/Akt Signaling Pathway.\u001b[0m\n",
            "\u001b[33m60 DOI missing in reference list\u001b[0m\n",
            "\u001b[32m61 Differential actions of FSH and LH during folliculogenesis.\u001b[0m\n",
            "\u001b[32m62 Endocrinology of the ovary.\u001b[0m\n",
            "\u001b[32m63 Testosterone in women--the clinical significance.\u001b[0m\n",
            "\u001b[32m64 Effects of orlistat on serum androgen levels among iranian obese women with polycystic ovarian syndrome.\u001b[0m\n",
            "\u001b[32m65 Estradiol Signaling at the Heart of Folliculogenesis: Its Potential Deregulation in Human Ovarian Pathologies.\u001b[0m\n",
            "\u001b[32m66 Estradiol treatment, physical activity, and muscle function in ovarian-senescent mice.\u001b[0m\n",
            "\u001b[31m67 No article found on PubMed for DOI: 10.1097/HM9.0000000000000009\u001b[0m\n",
            "\u001b[32m68 Differential contributions of ovarian and extraovarian factors to age-related reductions in plasma estradiol and progesterone during the estrous cycle of C57BL/6J mice.\u001b[0m\n",
            "\u001b[32m69 Expression pattern of G protein‑coupled estrogen receptor 1 (GPER) in human cumulus granulosa cells (CGCs) of patients with PCOS.\u001b[0m\n",
            "\u001b[32m70 Estrogen Biosynthesis and Signal Transduction in Ovarian Disease.\u001b[0m\n",
            "\u001b[33m71 DOI missing in reference list\u001b[0m\n",
            "\u001b[31m72 No article found on PubMed for DOI: 10.13753/j.issn.1007-6611.2022.04.011\u001b[0m\n",
            "\u001b[33m73 DOI missing in reference list\u001b[0m\n",
            "\u001b[31m74 No article found on PubMed for DOI: 10.13460/j.issn.1005-0957.2022.13.2020\u001b[0m\n",
            "\u001b[31m75 No article found on PubMed for DOI: 10.13359/j.cnki.gzxbtcm.2022.09.023\u001b[0m\n",
            "\u001b[33m76 DOI missing in reference list\u001b[0m\n",
            "\u001b[33m77 DOI missing in reference list\u001b[0m\n",
            "\u001b[31m78 No article found on PubMed for DOI: 10.13194/j.issn.1673-842x.2023.05.032\u001b[0m\n",
            "\u001b[32m79 [Effect of electroacupuncture on expression of Kisspeptin protein in hypothalamus of rats with polycystic ovary syndrome].\u001b[0m\n",
            "\u001b[33m80 DOI missing in reference list\u001b[0m\n",
            "\u001b[32m81 Adiponectin and Chemerin: Contrary Adipokines in Regulating Reproduction and Metabolic Disorders.\u001b[0m\n",
            "\u001b[31m82 No article found on PubMed for DOI: 10.20944/preprints202310.0782.v1\u001b[0m\n",
            "\u001b[32m83 Adiponectin and polycystic ovary syndrome.\u001b[0m\n",
            "\u001b[32m84 Insulin resistance and high molecular weight adiponectin in obese and non-obese patients with Polycystic Ovarian Syndrome (PCOS).\u001b[0m\n",
            "\u001b[32m85 Adipose Tissue Dysfunction in Polycystic Ovary Syndrome.\u001b[0m\n",
            "\u001b[32m86 Incidental pathologic extracardiac uptake of (99m)Tc-tetrofosmin in myocardial perfusion imaging: Importance of patient background evaluation.\u001b[0m\n",
            "\u001b[32m87 Electroacupuncture improves follicular development and metabolism and regulates the expression of adiponectin, AMPK and ACC in an obese rat model of polycystic ovary syndrome.\u001b[0m\n",
            "\u001b[32m88 [Retrospective analysis on pregnancy outcomes and fat-related factors of treatment of endomorph PCOS infertility patients by acupuncture of 8 acupoints around umbilicus].\u001b[0m\n",
            "\u001b[32m89 Electro-acupuncture attenuates the mice premature ovarian failure via mediating PI3K/AKT/mTOR pathway.\u001b[0m\n",
            "Done, found 60 existing documents, 14 non-existing documents and 15 missing DOI\n"
          ]
        },
        {
          "output_type": "stream",
          "name": "stderr",
          "text": [
            "/usr/local/lib/python3.12/dist-packages/jupyter_client/session.py:151: DeprecationWarning: datetime.datetime.utcnow() is deprecated and scheduled for removal in a future version. Use timezone-aware objects to represent datetimes in UTC: datetime.datetime.now(datetime.UTC).\n",
            "  return datetime.utcnow().replace(tzinfo=utc)\n"
          ]
        }
      ]
    },
    {
      "cell_type": "code",
      "source": [
        "doi_list = ['10.1073/pnas.2426992122',\"10.1172/JCI173193\", \"10.1186/s13023-025-03778-1\", '10.1186/s13287-025-04610-0', '10.1186/s12951-025-03630-5', '10.1186/s12916-025-04358-7', '10.1186/s12967-025-06991-5']"
      ],
      "metadata": {
        "id": "Ognhb5VftuO3"
      },
      "execution_count": 130,
      "outputs": []
    },
    {
      "cell_type": "code",
      "source": [
        "for doi in doi_list:\n",
        "  get_references_from_doi(doi = doi, return_dataframe=True, verbose = False)"
      ],
      "metadata": {
        "colab": {
          "base_uri": "https://localhost:8080/"
        },
        "id": "DS0XVmKXqV9Z",
        "outputId": "27386f00-6203-4b86-b992-95a4194b2fd2"
      },
      "execution_count": null,
      "outputs": [
        {
          "output_type": "stream",
          "name": "stdout",
          "text": [
            "Sending request...\n",
            "Processing response for: \u001b[3mTherapeutic restoration of mitochondria–endoplasmic reticulum cross talk for osteoarthritis\n"
          ]
        },
        {
          "output_type": "stream",
          "name": "stderr",
          "text": [
            "/usr/local/lib/python3.12/dist-packages/Bio/Entrez/Parser.py:916: ResourceWarning: unclosed <socket.socket fd=59, family=2, type=1, proto=6, laddr=('172.28.0.12', 40930), raddr=('52.23.19.63', 443)>\n",
            "  def elementDecl(self, name, model):\n",
            "ResourceWarning: Enable tracemalloc to get the object allocation traceback\n"
          ]
        },
        {
          "output_type": "stream",
          "name": "stdout",
          "text": [
            "Done, found 60 existing documents, 1 non-existing documents and 2 missing DOI\n",
            "Sending request...\n",
            "Processing response for: \u001b[3mIntegrated screening identifies GPR31 as a key driver and druggable target for metabolic dysfunction–associated steatohepatitis\n"
          ]
        }
      ]
    }
  ]
}